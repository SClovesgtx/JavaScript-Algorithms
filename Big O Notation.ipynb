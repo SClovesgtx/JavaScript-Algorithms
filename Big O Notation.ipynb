{
 "cells": [
  {
   "cell_type": "markdown",
   "metadata": {},
   "source": [
    "Suppose we want to write a function that calculates the sum of all numbers from 1 up to (and including) some number *n*."
   ]
  },
  {
   "cell_type": "code",
   "execution_count": 1,
   "metadata": {},
   "outputs": [],
   "source": [
    "function addUpTo(n) {\n",
    "    let total = 0;\n",
    "    for (let i = 1; i <= n; i++) {\n",
    "        total += i;\n",
    "    }\n",
    "    return total;\n",
    "}"
   ]
  },
  {
   "cell_type": "code",
   "execution_count": 2,
   "metadata": {},
   "outputs": [
    {
     "name": "stdout",
     "output_type": "stream",
     "text": [
      "21\n"
     ]
    }
   ],
   "source": [
    "console.log(addUpTo(6))"
   ]
  },
  {
   "cell_type": "code",
   "execution_count": 3,
   "metadata": {},
   "outputs": [],
   "source": [
    "function addUpTo2(n){\n",
    "    return n * (n + 1) / 2;\n",
    "}"
   ]
  },
  {
   "cell_type": "code",
   "execution_count": 4,
   "metadata": {},
   "outputs": [
    {
     "data": {
      "text/plain": [
       "21"
      ]
     },
     "execution_count": 4,
     "metadata": {},
     "output_type": "execute_result"
    }
   ],
   "source": [
    "addUpTo2(6)"
   ]
  },
  {
   "cell_type": "markdown",
   "metadata": {},
   "source": [
    "Qual das funções é melhor?\n",
    "\n",
    "O que queremos dizer com melhor?\n",
    "\n",
    "* Mais rápida?\n",
    "* Menos custo de memória?\n",
    "* Mais legível?\n",
    "\n",
    "Por agora vamos considerar por \"melhor\" ser mais rápida."
   ]
  },
  {
   "cell_type": "code",
   "execution_count": 5,
   "metadata": {},
   "outputs": [
    {
     "name": "stdout",
     "output_type": "stream",
     "text": [
      "Time Elapsed: 1.2638771670013667 seconds.\n"
     ]
    }
   ],
   "source": [
    "// Mendindo performance\n",
    "var {performance} = require('perf_hooks');\n",
    "\n",
    "var t1 = performance.now();\n",
    "addUpTo(1000000000);\n",
    "var t2 = performance.now();\n",
    "console.log(`Time Elapsed: ${(t2 - t1) / 1000} seconds.`)"
   ]
  },
  {
   "cell_type": "code",
   "execution_count": 6,
   "metadata": {},
   "outputs": [
    {
     "name": "stdout",
     "output_type": "stream",
     "text": [
      "Time Elapsed: 0.000006633996963500976 seconds.\n"
     ]
    }
   ],
   "source": [
    "// Mendindo quantidade de tempo de performance\n",
    "\n",
    "t1 = performance.now();\n",
    "addUpTo2(1000000000);\n",
    "t2 = performance.now();\n",
    "console.log(`Time Elapsed: ${(t2 - t1) / 1000} seconds.`)"
   ]
  },
  {
   "cell_type": "markdown",
   "metadata": {},
   "source": [
    "A segunda função ganhou em velocidade!!!"
   ]
  },
  {
   "cell_type": "markdown",
   "metadata": {},
   "source": [
    "# Big O Definition"
   ]
  },
  {
   "cell_type": "markdown",
   "metadata": {},
   "source": [
    "We say that an algoritnm is **O(f(n))** if the number of simple operations the computer has to do is eventually less tah a constant times **f(n)**, as **n** increases.\n",
    "\n",
    "* f(n) could be linear (f(n) = n)\n",
    "* f(n) coult be quadratic (f(n) = n²)\n",
    "* f(n) could be constant (f(n) = 3)\n",
    "\n",
    "Sempre pensamos no pior caso."
   ]
  },
  {
   "cell_type": "markdown",
   "metadata": {},
   "source": [
    "# Space Complexity\n",
    "\n",
    "We can also use big O notation to analyze **space complexity**: how much additional memory do we need to allocate in order to run the code in our algorithm?\n",
    "\n",
    "Sometimes you'll hear the term **auxiliary space complexity** to refer to space required by the algorithm, not including space taken up by the inputs."
   ]
  },
  {
   "cell_type": "markdown",
   "metadata": {},
   "source": [
    "### Space Complexity in JS\n",
    "\n",
    "* Most primitives (booleans, numbers, undefined, null) are constant space\n",
    "* Strings require O(n) space (where n is the string length)\n",
    "* Reference types are generally O(n), where n is the length (for arrays) or the number of keys (for objects)"
   ]
  },
  {
   "cell_type": "code",
   "execution_count": 8,
   "metadata": {},
   "outputs": [],
   "source": [
    "// exemplo de uma função \n",
    "// em que vamos avaliar \n",
    "// sua complexidade no que\n",
    "// tange não ao tempo mas \n",
    "// espaço na memória\n",
    "\n",
    "function sum(arr) {\n",
    "    let total = 0;\n",
    "    for (let i = 0; i < arr.length; i++) {\n",
    "        total += arr[i];\n",
    "    }\n",
    "    return total;\n",
    "}"
   ]
  },
  {
   "cell_type": "markdown",
   "metadata": {},
   "source": [
    "Na função anterior, temos complexidade de espaço O(1), pois estamos avaliando apenas a função, não o array que ela recebeu, temos uma variável, uma atribuição feita para essa variável, dentro do laço for temos uma variável \"i\" e uma atribuição feita paara essa variável, ou seja temos 4 coisas que ocupam espaço na memória, ou seja, O(1)."
   ]
  },
  {
   "cell_type": "code",
   "execution_count": 37,
   "metadata": {},
   "outputs": [],
   "source": [
    "// outro exemplo \n",
    "function double(arr) {\n",
    "    let arrNew = [];\n",
    "    for (i in arr) {\n",
    "        arrNew.push(2 * arr[i]);\n",
    "    }\n",
    "    return arrNew;\n",
    "}"
   ]
  },
  {
   "cell_type": "code",
   "execution_count": 38,
   "metadata": {},
   "outputs": [
    {
     "data": {
      "text/plain": [
       "[ 2, 4, 6 ]"
      ]
     },
     "execution_count": 38,
     "metadata": {},
     "output_type": "execute_result"
    }
   ],
   "source": [
    "double([1, 2, 3])"
   ]
  },
  {
   "cell_type": "markdown",
   "metadata": {},
   "source": [
    "Na função acima, temos a criação de um novo array de tamanho ingual ao array input, temos então O(n)."
   ]
  }
 ],
 "metadata": {
  "kernelspec": {
   "display_name": "Javascript (Node.js)",
   "language": "javascript",
   "name": "javascript"
  },
  "language_info": {
   "file_extension": ".js",
   "mimetype": "application/javascript",
   "name": "javascript",
   "version": "10.15.3"
  }
 },
 "nbformat": 4,
 "nbformat_minor": 2
}
