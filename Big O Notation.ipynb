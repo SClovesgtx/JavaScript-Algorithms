{
 "cells": [
  {
   "cell_type": "markdown",
   "metadata": {},
   "source": [
    "Suppose we want to write a function that calculates the sum of all numbers from 1 up to (and including) some number *n*."
   ]
  },
  {
   "cell_type": "code",
   "execution_count": 1,
   "metadata": {},
   "outputs": [],
   "source": [
    "function addUpTo(n) {\n",
    "    let total = 0;\n",
    "    for (let i = 1; i <= n; i++) {\n",
    "        total += i;\n",
    "    }\n",
    "    return total;\n",
    "}"
   ]
  },
  {
   "cell_type": "code",
   "execution_count": 2,
   "metadata": {},
   "outputs": [
    {
     "name": "stdout",
     "output_type": "stream",
     "text": [
      "21\n"
     ]
    }
   ],
   "source": [
    "console.log(addUpTo(6))"
   ]
  },
  {
   "cell_type": "code",
   "execution_count": 3,
   "metadata": {},
   "outputs": [],
   "source": [
    "function addUpTo2(n){\n",
    "    return n * (n + 1) / 2;\n",
    "}"
   ]
  },
  {
   "cell_type": "code",
   "execution_count": 4,
   "metadata": {},
   "outputs": [
    {
     "data": {
      "text/plain": [
       "21"
      ]
     },
     "execution_count": 4,
     "metadata": {},
     "output_type": "execute_result"
    }
   ],
   "source": [
    "addUpTo2(6)"
   ]
  },
  {
   "cell_type": "markdown",
   "metadata": {},
   "source": [
    "Qual das funções é melhor?\n",
    "\n",
    "O que queremos dizer com melhor?\n",
    "\n",
    "* Mais rápida?\n",
    "* Menos custo de memória?\n",
    "* Mais legível?\n",
    "\n",
    "Por agora vamos considerar por \"melhor\" ser mais rápida."
   ]
  },
  {
   "cell_type": "code",
   "execution_count": 8,
   "metadata": {},
   "outputs": [
    {
     "name": "stdout",
     "output_type": "stream",
     "text": [
      "Time Elapsed: 1.1483740659989417 seconds.\n"
     ]
    }
   ],
   "source": [
    "// Mendindo performance\n",
    "var {performance} = require('perf_hooks');\n",
    "\n",
    "var t1 = performance.now();\n",
    "addUpTo(1000000000);\n",
    "var t2 = performance.now();\n",
    "console.log(`Time Elapsed: ${(t2 - t1) / 1000} seconds.`)"
   ]
  },
  {
   "cell_type": "code",
   "execution_count": 7,
   "metadata": {},
   "outputs": [
    {
     "name": "stdout",
     "output_type": "stream",
     "text": [
      "Time Elapsed: 0.000016527000814676285 seconds.\n"
     ]
    }
   ],
   "source": [
    "// Mendindo quantidade de tempo de performance\n",
    "\n",
    "t1 = performance.now();\n",
    "addUpTo2(1000000000);\n",
    "t2 = performance.now();\n",
    "console.log(`Time Elapsed: ${(t2 - t1) / 1000} seconds.`)"
   ]
  },
  {
   "cell_type": "markdown",
   "metadata": {},
   "source": [
    "A segunda função ganhou em velocidade!!!"
   ]
  },
  {
   "cell_type": "markdown",
   "metadata": {},
   "source": [
    "# Big O Definition"
   ]
  },
  {
   "cell_type": "markdown",
   "metadata": {},
   "source": [
    "We say that an algoritnm is **O(f(n))** if the number of simple operations the computer has to do is eventually less tah a constant times **f(n)**, as **n** increases.\n",
    "\n",
    "* f(n) could be linear (f(n) = n)\n",
    "* f(n) coult be quadratic (f(n) = n²)\n",
    "* f(n) could be constant (f(n) = 3)\n",
    "\n",
    "Sempre pensamos no pior caso."
   ]
  },
  {
   "cell_type": "code",
   "execution_count": null,
   "metadata": {},
   "outputs": [],
   "source": []
  }
 ],
 "metadata": {
  "kernelspec": {
   "display_name": "Javascript (Node.js)",
   "language": "javascript",
   "name": "javascript"
  },
  "language_info": {
   "file_extension": ".js",
   "mimetype": "application/javascript",
   "name": "javascript",
   "version": "8.10.0"
  }
 },
 "nbformat": 4,
 "nbformat_minor": 2
}
